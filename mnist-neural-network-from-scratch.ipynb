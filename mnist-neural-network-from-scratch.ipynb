{
 "cells": [
  {
   "cell_type": "code",
   "execution_count": 1,
   "id": "e426f714",
   "metadata": {
    "execution": {
     "iopub.execute_input": "2024-05-04T16:23:17.856222Z",
     "iopub.status.busy": "2024-05-04T16:23:17.855340Z",
     "iopub.status.idle": "2024-05-04T16:23:17.866856Z",
     "shell.execute_reply": "2024-05-04T16:23:17.865914Z"
    },
    "papermill": {
     "duration": 0.018374,
     "end_time": "2024-05-04T16:23:17.869151",
     "exception": false,
     "start_time": "2024-05-04T16:23:17.850777",
     "status": "completed"
    },
    "tags": []
   },
   "outputs": [],
   "source": [
    "import numpy as np"
   ]
  },
  {
   "cell_type": "code",
   "execution_count": 2,
   "id": "c990d084",
   "metadata": {
    "execution": {
     "iopub.execute_input": "2024-05-04T16:23:17.876507Z",
     "iopub.status.busy": "2024-05-04T16:23:17.876142Z",
     "iopub.status.idle": "2024-05-04T16:23:17.881244Z",
     "shell.execute_reply": "2024-05-04T16:23:17.880219Z"
    },
    "papermill": {
     "duration": 0.011048,
     "end_time": "2024-05-04T16:23:17.883228",
     "exception": false,
     "start_time": "2024-05-04T16:23:17.872180",
     "status": "completed"
    },
    "tags": []
   },
   "outputs": [],
   "source": [
    "class Layer:\n",
    "    def __init__(self):\n",
    "        self.input = None\n",
    "        self.output = None\n",
    "    \n",
    "    def forward(self, input):\n",
    "        raise NotImplementedError\n",
    "    \n",
    "    def backward(self, error, lr):\n",
    "        raise NotImplementedError"
   ]
  },
  {
   "cell_type": "code",
   "execution_count": 3,
   "id": "6cae9c6f",
   "metadata": {
    "execution": {
     "iopub.execute_input": "2024-05-04T16:23:17.889876Z",
     "iopub.status.busy": "2024-05-04T16:23:17.889500Z",
     "iopub.status.idle": "2024-05-04T16:23:17.896505Z",
     "shell.execute_reply": "2024-05-04T16:23:17.895398Z"
    },
    "papermill": {
     "duration": 0.01265,
     "end_time": "2024-05-04T16:23:17.898608",
     "exception": false,
     "start_time": "2024-05-04T16:23:17.885958",
     "status": "completed"
    },
    "tags": []
   },
   "outputs": [],
   "source": [
    "class FCLayer(Layer):\n",
    "    def __init__(self, input_size, output_size):\n",
    "        self.weights = np.random.rand(input_size, output_size)\n",
    "        self.bias = np.random.rand(1, output_size)\n",
    "    \n",
    "    def forward(self, input):\n",
    "        self.input = input\n",
    "        self.output = np.dot(self.input, self.weights) + self.bias\n",
    "        return self.output\n",
    "    \n",
    "    def backward(self, error, lr):\n",
    "        input_error = np.dot(error, self.weights.T)\n",
    "        weights_error = np.dot(self.input.T, error)\n",
    "        \n",
    "        self.weights -= weights_error * lr\n",
    "        self.bias -= error * lr"
   ]
  },
  {
   "cell_type": "code",
   "execution_count": 4,
   "id": "a368de1e",
   "metadata": {
    "execution": {
     "iopub.execute_input": "2024-05-04T16:23:17.905750Z",
     "iopub.status.busy": "2024-05-04T16:23:17.905072Z",
     "iopub.status.idle": "2024-05-04T16:23:17.911108Z",
     "shell.execute_reply": "2024-05-04T16:23:17.910131Z"
    },
    "papermill": {
     "duration": 0.012086,
     "end_time": "2024-05-04T16:23:17.913331",
     "exception": false,
     "start_time": "2024-05-04T16:23:17.901245",
     "status": "completed"
    },
    "tags": []
   },
   "outputs": [],
   "source": [
    "class ACLayer(Layer):\n",
    "    def __init__(self, activation, activation_prime):\n",
    "        self.activation = activation\n",
    "        self.activation_prime = activation_prime\n",
    "    \n",
    "    def forward(self, input):\n",
    "        self.input = input\n",
    "        self.output = self.activation(self.input)\n",
    "        return self.output\n",
    "    \n",
    "    def backward(self, error, lr):\n",
    "        return self.activation_prime(self.input) * error"
   ]
  },
  {
   "cell_type": "code",
   "execution_count": 5,
   "id": "c767ce7a",
   "metadata": {
    "execution": {
     "iopub.execute_input": "2024-05-04T16:23:17.920424Z",
     "iopub.status.busy": "2024-05-04T16:23:17.919880Z",
     "iopub.status.idle": "2024-05-04T16:23:17.924415Z",
     "shell.execute_reply": "2024-05-04T16:23:17.923734Z"
    },
    "papermill": {
     "duration": 0.010356,
     "end_time": "2024-05-04T16:23:17.926358",
     "exception": false,
     "start_time": "2024-05-04T16:23:17.916002",
     "status": "completed"
    },
    "tags": []
   },
   "outputs": [],
   "source": [
    "def tanh(x): return np.tanh(x)\n",
    "def tanh_prime(x): return 1-np.tanh(x)**2"
   ]
  },
  {
   "cell_type": "code",
   "execution_count": 6,
   "id": "202f96cc",
   "metadata": {
    "execution": {
     "iopub.execute_input": "2024-05-04T16:23:17.933759Z",
     "iopub.status.busy": "2024-05-04T16:23:17.932982Z",
     "iopub.status.idle": "2024-05-04T16:23:17.938060Z",
     "shell.execute_reply": "2024-05-04T16:23:17.937341Z"
    },
    "papermill": {
     "duration": 0.010873,
     "end_time": "2024-05-04T16:23:17.939966",
     "exception": false,
     "start_time": "2024-05-04T16:23:17.929093",
     "status": "completed"
    },
    "tags": []
   },
   "outputs": [],
   "source": [
    "def mse(actual, pred): return np.mean(np.power(actual-pred), 1)\n",
    "def mse_prime(actual, pred): return 2*(actual-pred)/actual.size"
   ]
  },
  {
   "cell_type": "code",
   "execution_count": 7,
   "id": "fdf0ef1f",
   "metadata": {
    "execution": {
     "iopub.execute_input": "2024-05-04T16:23:17.947001Z",
     "iopub.status.busy": "2024-05-04T16:23:17.946385Z",
     "iopub.status.idle": "2024-05-04T16:23:17.955972Z",
     "shell.execute_reply": "2024-05-04T16:23:17.955233Z"
    },
    "papermill": {
     "duration": 0.015498,
     "end_time": "2024-05-04T16:23:17.958109",
     "exception": false,
     "start_time": "2024-05-04T16:23:17.942611",
     "status": "completed"
    },
    "tags": []
   },
   "outputs": [],
   "source": [
    "class Network:\n",
    "    def __init__(self):\n",
    "        self.layers = list()\n",
    "        self.loss = None\n",
    "        self.loss_prime = None\n",
    "    \n",
    "    def add(self, layer):\n",
    "        self.layers.append(layer)\n",
    "        \n",
    "    def loss(self, loss, loss_prime):\n",
    "        self.loss = loss\n",
    "        self.loss_prime = loss_prime\n",
    "    \n",
    "    def predict(self, input):\n",
    "        results = list()\n",
    "        \n",
    "        for idx in range(len(inputs)):\n",
    "            output = input[idx]\n",
    "            for layer in self.layers:\n",
    "                output = layer.forward(output)\n",
    "            result.append(output)\n",
    "        return result\n",
    "    \n",
    "    def fit(self, inputs, labels, epochs, lr):\n",
    "        for epoch in range(epochs):\n",
    "            cur_error = 0\n",
    "            for idx in range(len(inputs)):\n",
    "                output = input[idx]\n",
    "                for layer in self.layers:\n",
    "                    output = layer.forward(output)\n",
    "\n",
    "                cur_err += self.loss(labels[idx], output)\n",
    "                error = self.loss_prime(labels[idx], output)\n",
    "                for layer in reversed(self.layers):\n",
    "                    error = layer.backward(error, lr)      \n",
    "        \n",
    "        cur_err = cur_err / len(inputs)\n",
    "        print('epoch %d/%d   error=%f' % (i+1, epochs, cur_err))"
   ]
  }
 ],
 "metadata": {
  "kaggle": {
   "accelerator": "none",
   "dataSources": [],
   "dockerImageVersionId": 30698,
   "isGpuEnabled": false,
   "isInternetEnabled": true,
   "language": "python",
   "sourceType": "notebook"
  },
  "kernelspec": {
   "display_name": "Python 3",
   "language": "python",
   "name": "python3"
  },
  "language_info": {
   "codemirror_mode": {
    "name": "ipython",
    "version": 3
   },
   "file_extension": ".py",
   "mimetype": "text/x-python",
   "name": "python",
   "nbconvert_exporter": "python",
   "pygments_lexer": "ipython3",
   "version": "3.10.13"
  },
  "papermill": {
   "default_parameters": {},
   "duration": 3.166582,
   "end_time": "2024-05-04T16:23:18.280034",
   "environment_variables": {},
   "exception": null,
   "input_path": "__notebook__.ipynb",
   "output_path": "__notebook__.ipynb",
   "parameters": {},
   "start_time": "2024-05-04T16:23:15.113452",
   "version": "2.5.0"
  }
 },
 "nbformat": 4,
 "nbformat_minor": 5
}
